{
 "cells": [
  {
   "cell_type": "markdown",
   "metadata": {},
   "source": [
    "# Dragon Dungeon\n",
    "The program we'll be writing is a small [text based adventure game](https://en.wikipedia.org/wiki/Text-based_game). These games were popular in the 80s before high-end graphics were available. They're also popular because they're simpler to write.\n",
    "\n",
    "```\n",
    "You are in a land full of dragons. In front of you,\n",
    "you see two caves. In one cave, the dragon is friendly\n",
    "and will share his treasure with you. The other dragon\n",
    "is greedy and hungry, and will eat you on sight.\n",
    "\n",
    "Which cave will you go into? (1 or 2)\n",
    "1\n",
    "You approach the cave...\n",
    "It is dark and spooky...\n",
    "A large dragon jumps out in front of you! He opens his jaws and...\n",
    "Gobbles you down in one bite!\n",
    "Do you want to play again? (yes or no)\n",
    "no\n",
    "Goodbye\n",
    "```"
   ]
  },
  {
   "cell_type": "markdown",
   "metadata": {},
   "source": [
    "## Program structure\n",
    "Our code will have four parts.\n",
    "1. The introduction\n",
    "2. Choosing a cave\n",
    "3. Checking the cave\n",
    "4. Asking whether we want to play again"
   ]
  },
  {
   "cell_type": "markdown",
   "metadata": {},
   "source": [
    "## Functions - def():\n",
    "Functions are blocks of code that can be reused by a program. To make a function we use def for example: \n",
    "\n",
    "```py\n",
    "def function_name():\n",
    "    do something\n",
    "```\n",
    "\n",
    "def stands for define. We are defining a function. Any time we do something more than a couple times we want to reuse it. We can reuse code using functions.\n",
    "\n",
    "The first line of a function always starts with def, the name of the function written with lowercase and underscores, parentheses (we'll explain in a bit what goes inside), and end in a colon.\n",
    "Python uses whitespace to know when functions end just like loops. All of the rest of the lines have to be indented. When you stop indenting the function ends.\n",
    "\n",
    "```py\n",
    "def spam():\n",
    "    print('hi')\n",
    "    print('bye')\n",
    "    \n",
    "print('Not part of the function')\n",
    "```"
   ]
  },
  {
   "cell_type": "code",
   "execution_count": null,
   "metadata": {},
   "outputs": [],
   "source": [
    "def greeting():\n",
    "    print('Hey, how are you?')\n",
    "\n",
    "i = 0\n",
    "while i < 5:\n",
    "    greeting()\n",
    "    i += 1"
   ]
  },
  {
   "cell_type": "markdown",
   "metadata": {},
   "source": [
    "## Intro\n",
    "The first part I want you to write a function that outputs\n",
    "```\n",
    "You are in a land full of dragons. In front of you,\n",
    "you see two caves. In one cave, the dragon is friendly\n",
    "and will share his treasure with you. The other dragon\n",
    "is greedy and hungry, and will eat you on sight.\n",
    "```\n",
    "\n"
   ]
  },
  {
   "cell_type": "markdown",
   "metadata": {},
   "source": [
    "Test your code below. Does the function work by itself?"
   ]
  },
  {
   "cell_type": "code",
   "execution_count": 22,
   "metadata": {},
   "outputs": [],
   "source": [
    "def display_intro():\n",
    "    print ('You are in a land full of dragons. In front of you,')\n",
    "    print ('you see two caves. In one cave, the dragon is friendly')\n",
    "    print ('and will share his treasure with you. The other dragon')\n",
    "    print ('is greedy and hungry, and will eat you on sight.')"
   ]
  },
  {
   "cell_type": "code",
   "execution_count": 26,
   "metadata": {},
   "outputs": [
    {
     "name": "stdout",
     "output_type": "stream",
     "text": [
      "You are in a land full of dragons. In front of you,\n",
      "you see two caves. In one cave, the dragon is friendly\n",
      "and will share his treasure with you. The other dragon\n",
      "is greedy and hungry, and will eat you on sight.\n"
     ]
    }
   ],
   "source": [
    "display_intro()"
   ]
  },
  {
   "cell_type": "markdown",
   "metadata": {},
   "source": [
    "## Parameters\n",
    "Parameters are variables you give a function so that it can do something useful."
   ]
  },
  {
   "cell_type": "markdown",
   "metadata": {},
   "source": [
    "## Return\n",
    "return lets us send variables from the function back to the program where it was called."
   ]
  },
  {
   "cell_type": "code",
   "execution_count": 32,
   "metadata": {},
   "outputs": [],
   "source": [
    "def say_my_name(name):\n",
    "    \"'Prints the users name'\"\n",
    "    print(name [::-1]) "
   ]
  },
  {
   "cell_type": "code",
   "execution_count": 33,
   "metadata": {},
   "outputs": [
    {
     "data": {
      "text/plain": [
       "<function __main__.say_my_name>"
      ]
     },
     "execution_count": 33,
     "metadata": {},
     "output_type": "execute_result"
    }
   ],
   "source": [
    "say_my_name"
   ]
  },
  {
   "cell_type": "code",
   "execution_count": 129,
   "metadata": {},
   "outputs": [
    {
     "name": "stdout",
     "output_type": "stream",
     "text": [
      "Hey everybody!\n",
      "CPU times: user 0 ns, sys: 0 ns, total: 0 ns\n",
      "Wall time: 464 µs\n"
     ]
    }
   ],
   "source": [
    "%%time\n",
    "print ('Hey everybody!')"
   ]
  },
  {
   "cell_type": "code",
   "execution_count": 30,
   "metadata": {},
   "outputs": [
    {
     "name": "stdout",
     "output_type": "stream",
     "text": [
      "16\n",
      "100\n",
      "308025\n",
      "625\n"
     ]
    }
   ],
   "source": [
    "def square(x):\n",
    "    return x*x\n",
    "print(square(4))\n",
    "print(square(10))\n",
    "print(square(555))\n",
    "x = square(5)\n",
    "y = square(x)\n",
    "print(y)"
   ]
  },
  {
   "cell_type": "markdown",
   "metadata": {},
   "source": [
    "In the square example above, `x` is a parameter."
   ]
  },
  {
   "cell_type": "markdown",
   "metadata": {},
   "source": [
    "### Practice\n",
    "1. Write a function that takes two numbers and returns the average.\n",
    "2. Write an exponent function. exp(a,b) would mean a<sup>b</sup>. Example exp(2,3) = 2<sup>3</sup> = 8\n",
    "\n",
    "Complete functions in the two cells below. Test with the print statements 3 cells down."
   ]
  },
  {
   "cell_type": "code",
   "execution_count": 131,
   "metadata": {
    "collapsed": true
   },
   "outputs": [],
   "source": [
    "def average(a, b):\n",
    "    return (a + b) / 2"
   ]
  },
  {
   "cell_type": "code",
   "execution_count": 132,
   "metadata": {
    "collapsed": true
   },
   "outputs": [],
   "source": [
    "def exp(a, b):\n",
    "    return a**b"
   ]
  },
  {
   "cell_type": "code",
   "execution_count": null,
   "metadata": {
    "collapsed": true
   },
   "outputs": [],
   "source": [
    "print(average(4, 10))\n",
    "print(exp(3,4))"
   ]
  },
  {
   "cell_type": "markdown",
   "metadata": {},
   "source": [
    "### Boolean Operators - and, or, not\n",
    "Truth values can be checked together with boolean operators. These operators are useful for creating more complex conditions to control the flow of your program."
   ]
  },
  {
   "cell_type": "markdown",
   "metadata": {},
   "source": [
    "|A    |B    |A and B|A or B|\n",
    "|---  |---  |---    |---   |\n",
    "|True |True |True   |True  |\n",
    "|True |False|False  |True  |\n",
    "|False|True |False  |True  |\n",
    "|False|False|False  |False |\n",
    "\n",
    "|It's sunny out|It's cloudy out|Is it sunny and cloudy?|Is it sunny or cloudy?|\n",
    "|---  |---  |---    |---   |\n",
    "|True |True |True   |True  |\n",
    "|True |False|False  |True  |\n",
    "|False|True |False  |True  |\n",
    "|False|False|False  |False |"
   ]
  },
  {
   "cell_type": "code",
   "execution_count": 137,
   "metadata": {},
   "outputs": [
    {
     "name": "stdout",
     "output_type": "stream",
     "text": [
      "It's sunny and cloudy\n",
      "It's sunny or cloudy or both\n",
      "It's snowy outside. Do you want to build a snowman?\n"
     ]
    }
   ],
   "source": [
    "sunny = True\n",
    "windy = False\n",
    "cloudy = True\n",
    "snowy = True\n",
    "rainy = False\n",
    "if sunny and cloudy:\n",
    "    print(\"It's sunny and cloudy\")\n",
    "if sunny or cloudy:\n",
    "    print(\"It's sunny or cloudy or both\")\n",
    "if not sunny:\n",
    "    print(\"It's not sunny\")\n",
    "if windy:\n",
    "    print(\"It's really breezy\")\n",
    "if snowy:\n",
    "    print(\"It's snowy outside. Do you want to build a snowman?\")\n",
    "if rainy:\n",
    "    print(\"I'm so wet!\")"
   ]
  },
  {
   "cell_type": "markdown",
   "metadata": {},
   "source": [
    "## Choosing the cave\n",
    "Write a function that asks you what cave you want to go into and returns that number. The function should only accept 1 or 2. If something else is entered it should ask again.\n",
    "Hint: keep asking with a while loop. Combine check of 1 and 2 with a booleon operator"
   ]
  },
  {
   "cell_type": "code",
   "execution_count": 181,
   "metadata": {},
   "outputs": [],
   "source": [
    "def choose_cave(): \n",
    "    cave = ''\n",
    "    while cave != '1' and cave  != '2' :\n",
    "        cave = input(\"Which cave do you want to go into?(1 or 2)\")\n",
    "    return cave"
   ]
  },
  {
   "cell_type": "markdown",
   "metadata": {},
   "source": [
    "Test your code here. Does your function return a number?"
   ]
  },
  {
   "cell_type": "code",
   "execution_count": 162,
   "metadata": {},
   "outputs": [
    {
     "ename": "SyntaxError",
     "evalue": "unexpected EOF while parsing (<ipython-input-162-bc5cd0cc838d>, line 3)",
     "output_type": "error",
     "traceback": [
      "\u001b[0;36m  File \u001b[0;32m\"<ipython-input-162-bc5cd0cc838d>\"\u001b[0;36m, line \u001b[0;32m3\u001b[0m\n\u001b[0;31m    print('cave')\u001b[0m\n\u001b[0m                 ^\u001b[0m\n\u001b[0;31mSyntaxError\u001b[0m\u001b[0;31m:\u001b[0m unexpected EOF while parsing\n"
     ]
    }
   ],
   "source": [
    "try:\n",
    "    cave: int(input('Which cave do you want to enter?(1 or 2)'))\n",
    "    print('cave')"
   ]
  },
  {
   "cell_type": "code",
   "execution_count": 184,
   "metadata": {
    "scrolled": false
   },
   "outputs": [
    {
     "name": "stdout",
     "output_type": "stream",
     "text": [
      "Which cave do you want to go into?(1 or 2)2\n",
      "I choose cave number 2\n"
     ]
    }
   ],
   "source": [
    "cave = choose_cave()\n",
    "print('I choose cave number {}'.format(cave))"
   ]
  },
  {
   "cell_type": "code",
   "execution_count": null,
   "metadata": {
    "collapsed": true
   },
   "outputs": [],
   "source": []
  },
  {
   "cell_type": "code",
   "execution_count": null,
   "metadata": {
    "collapsed": true
   },
   "outputs": [],
   "source": []
  },
  {
   "cell_type": "markdown",
   "metadata": {},
   "source": [
    "## Sleeping zzz...\n",
    "To build the illusion of walking into a cave and build suspense, we want to pause. To do this we need the time module. time has a function called sleep. To pause for one second we would write.\n",
    "```py\n",
    "import time\n",
    "time.sleep(1)\n",
    "```\n",
    "To pause for one minute we would write\n",
    "```py\n",
    "time.sleep(60)\n",
    "```"
   ]
  },
  {
   "cell_type": "code",
   "execution_count": 261,
   "metadata": {},
   "outputs": [
    {
     "name": "stdout",
     "output_type": "stream",
     "text": [
      "Look behind you something is there...\n",
      "Swim away, swim away!\n",
      "What do you think it was? (A Hammerhead shark or a Great big Squid)ormatj\n"
     ]
    }
   ],
   "source": [
    "\n",
    "import time\n",
    "print('Look behind you something is there...')\n",
    "time.sleep (2)\n",
    "print('Swim away, swim away!')\n",
    "time.sleep (3)\n",
    "ahh = input('What do you think it was? (A Hammerhead shark or a Great big Squid"
   ]
  },
  {
   "cell_type": "code",
   "execution_count": 260,
   "metadata": {},
   "outputs": [
    {
     "name": "stdout",
     "output_type": "stream",
     "text": [
      "One Mississippi\n",
      "Four Mississippi\n"
     ]
    }
   ],
   "source": [
    "import time\n",
    "print('One Mississippi')\n",
    "time.sleep(3)\n",
    "print('Four Mississippi')"
   ]
  },
  {
   "cell_type": "markdown",
   "metadata": {},
   "source": [
    "## Checking the cave\n",
    "\n",
    "1. Write the following one line at a time with a couple seconds in between. You can adjust later if its too fast or slow.\n",
    "```\n",
    "You approach the cave...\n",
    "It is dark and spooky...\n",
    "A large dragon jumps out in front of you! He opens his jaws and...\n",
    "```\n",
    "2. Generate a random number to decide which cave the nice dragon is in.\n",
    "3. Check whether the chosen cave has the nice dragon or mean dragon.\n",
    "4. Write \"Gobbles you down in one bite!\" if he's mean or \"Gives you his treasure!\" if he's nice."
   ]
  },
  {
   "cell_type": "code",
   "execution_count": null,
   "metadata": {
    "scrolled": true
   },
   "outputs": [],
   "source": [
    "\n",
    "\n",
    "\n",
    "\n",
    "\n",
    "\n",
    "\n",
    "\n",
    "\n",
    "\n",
    "\n",
    "\n",
    "\n"
   ]
  },
  {
   "cell_type": "code",
   "execution_count": null,
   "metadata": {},
   "outputs": [],
   "source": [
    "random."
   ]
  },
  {
   "cell_type": "markdown",
   "metadata": {},
   "source": [
    "## Play again?\n",
    "Finally we want to know whether the user wants to play again or not. This function is useful because we can use it in other games!\n",
    "Write a function that:\n",
    "1. Asks the user whether they want to play again\n",
    "2. returns True if they do and False if they don't. You can use y/n, yes/no, or both. We should change the program to match\n",
    "3. If the user inputs something that doesn't make sense ask them again."
   ]
  },
  {
   "cell_type": "code",
   "execution_count": 272,
   "metadata": {},
   "outputs": [],
   "source": [
    "def play_again():\n",
    "    while True:\n",
    "        response = input('Play again?')\n",
    "        if response == 'y' or response == 'yes' :\n",
    "            return True\n",
    "        elif response == 'n' or response == 'no':\n",
    "            print('game over')\n",
    "            return False   "
   ]
  },
  {
   "cell_type": "markdown",
   "metadata": {},
   "source": [
    "## Play the game\n",
    "If all of your functions work, then the game below should work. Try it out!"
   ]
  },
  {
   "cell_type": "code",
   "execution_count": 263,
   "metadata": {},
   "outputs": [
    {
     "name": "stdout",
     "output_type": "stream",
     "text": [
      "Which cave will you go into (1 or 2)? 1\n",
      "I choose the cave number 1\n",
      "You aproach the cave...\n",
      "It is dark and spooky...\n",
      "A large dragon jumps out in front of you! He opens his jaws and...\n",
      "\n",
      "It is the Brat dragon and she slaps you. You start to cry and you end up lost in the maze of the jungle.\n"
     ]
    }
   ],
   "source": [
    "import random\n",
    "def check_cave(chosen_cave):\n",
    "    print('You aproach the cave...')\n",
    "    time.sleep(1)\n",
    "    print('It is dark and spooky...')\n",
    "    time.sleep(1)\n",
    "    print('A large dragon jumps out in front of you! He opens his jaws and...')\n",
    "    print()\n",
    "    time.sleep(1)\n",
    "    brat_cave = random.randint(1,2)\n",
    "    if int(chosen_cave) == brat_cave:\n",
    "        print('It is the Brat dragon and she slaps you. You start to cry and you end up lost in the maze of the jungle.')\n",
    "    else:\n",
    "        print('It is the Multiple emotion dragon. The dragon leaves you confused, because it was; sad, mad, and happy.')\n",
    "cave = choose_cave()\n",
    "print('I choose the cave number {}'.format(cave))\n",
    "check_cave(cave)\n",
    "def play_again():\n",
    "    while True:\n",
    "        response = input('Play again?')\n",
    "        if response == 'y' or response == 'yes' :\n",
    "            return True\n",
    "        elif response == 'n' or response == 'no':\n",
    "            print('game over')\n",
    "            return False   "
   ]
  },
  {
   "cell_type": "markdown",
   "metadata": {
    "collapsed": true
   },
   "source": [
    "# play = True\n",
    "while play:\n",
    "    display_intro()\n",
    "    cave_number = choose_cave()\n",
    "    check_cave(cave_number)\n",
    "    play = play_again()\n",
    "    \n",
    "    \n",
    "    "
   ]
  },
  {
   "cell_type": "code",
   "execution_count": null,
   "metadata": {
    "collapsed": true
   },
   "outputs": [],
   "source": []
  },
  {
   "cell_type": "code",
   "execution_count": null,
   "metadata": {
    "collapsed": true
   },
   "outputs": [],
   "source": []
  },
  {
   "cell_type": "code",
   "execution_count": null,
   "metadata": {
    "collapsed": true
   },
   "outputs": [],
   "source": []
  },
  {
   "cell_type": "markdown",
   "metadata": {},
   "source": [
    "## Answer Key\n",
    "If you get stuck compare your code to the code below. Don't copy and paste! Typing out your own code and fixing the errors helps you learn. 😀"
   ]
  },
  {
   "cell_type": "code",
   "execution_count": 255,
   "metadata": {
    "collapsed": true
   },
   "outputs": [],
   "source": [
    "def display_intro():\n",
    "    print('You are in a land full of dragons. In front of you,')\n",
    "    print('you see two caves. In one cave, the dragon is friendly')\n",
    "    print('and will share his treasure with you. The other dragon')\n",
    "    print('is greedy and hungry, and will eat you on sight.')\n",
    "    print()"
   ]
  },
  {
   "cell_type": "code",
   "execution_count": 256,
   "metadata": {
    "collapsed": true
   },
   "outputs": [],
   "source": [
    "def choose_cave():\n",
    "    cave = ''\n",
    "    while cave != '1' and cave != '2':\n",
    "        cave = input('Which cave will you go into (1 or 2)? ')\n",
    "\n",
    "    return cave"
   ]
  },
  {
   "cell_type": "code",
   "execution_count": 257,
   "metadata": {
    "collapsed": true
   },
   "outputs": [],
   "source": [
    "import time, random\n",
    "\n",
    "def check_cave(chosen_cave):\n",
    "    print('You approach the cave...')\n",
    "    time.sleep(2)\n",
    "    print('It is dark and spooky...')\n",
    "    time.sleep(2)\n",
    "    print('A large dragon jumps out in front of you! He opens his jaws and...')\n",
    "    print()\n",
    "    time.sleep(2)\n",
    "\n",
    "    friendly_cave = random.randint(1, 2)\n",
    "\n",
    "    if chosen_cave == str(friendly_cave):\n",
    "         print('Gives you his treasure!')\n",
    "    else:\n",
    "         print('Gobbles you down in one bite!')"
   ]
  },
  {
   "cell_type": "code",
   "execution_count": 249,
   "metadata": {
    "collapsed": true
   },
   "outputs": [],
   "source": [
    "def play_again():\n",
    "    while True:\n",
    "        new_game = input('Do you want to play again? (y/n) ')\n",
    "        if new_game.lower() == 'yes' or new_game.lower() == 'y':\n",
    "            return True\n",
    "        elif new_game.lower() == 'no' or new_game.lower() == 'n':\n",
    "            print('Goodbye')\n",
    "            return False\n",
    "        else:\n",
    "            print('Not a valid response')"
   ]
  }
 ],
 "metadata": {
  "kernelspec": {
   "display_name": "Python 3",
   "language": "python",
   "name": "python3"
  },
  "language_info": {
   "codemirror_mode": {
    "name": "ipython",
    "version": 3
   },
   "file_extension": ".py",
   "mimetype": "text/x-python",
   "name": "python",
   "nbconvert_exporter": "python",
   "pygments_lexer": "ipython3",
   "version": "3.6.1"
  }
 },
 "nbformat": 4,
 "nbformat_minor": 2
}
