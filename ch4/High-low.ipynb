{
 "cells": [
  {
   "cell_type": "markdown",
   "metadata": {},
   "source": [
    "# High-Low\n",
    "High-low is a guessing game. \n",
    "\n",
    "## Rules\n",
    "* Guess a number between 1 and 50\n",
    "* If you guess the wrong the computer will tell you if it's too high or too low\n",
    "* If you guess right the game ends and you win\n",
    "* If you can't guess right in 6 tries you lose"
   ]
  },
  {
   "cell_type": "markdown",
   "metadata": {},
   "source": [
    "## Importing\n",
    "\n",
    "<img src=\"assets/antigrav.png\" width=\"300\">\n",
    "\n",
    "A lot of the time, someone else has already invented a smart, fast way to do something that we want to do. They'll put their function in a module (a.k.a. library in other languages). To get those functions we need to write\n",
    "\n",
    "`import name_of_module`\n",
    "\n",
    "We want to generate random numbers so we'll need the random module"
   ]
  },
  {
   "cell_type": "code",
   "execution_count": 30,
   "metadata": {},
   "outputs": [
    {
     "name": "stdout",
     "output_type": "stream",
     "text": [
      "Your first random number is 7\n",
      "Generate a number between 0-1: 0.14181657873003184\n",
      "My favorite person is Calvin\n"
     ]
    }
   ],
   "source": [
    "import random\n",
    "print('Your first random number is {0}'.format(random.randint(1,10)))\n",
    "print('Generate a number between 0-1: {0}'.format(random.random()))\n",
    "print('My favorite person is {0}'.format(random.choice(['Alice', 'Bob', 'Calvin'])))"
   ]
  },
  {
   "cell_type": "markdown",
   "metadata": {},
   "source": [
    "### Practice\n",
    "1. Generate a random number between 1 and 100.\n",
    "2. You're playing Monopoly and have lost your dice. Make a program to roll the dice.\n",
    "3. You don't know what to eat for dinner today. Make a program to choose between your three favorite foods."
   ]
  },
  {
   "cell_type": "code",
   "execution_count": null,
   "metadata": {
    "collapsed": true
   },
   "outputs": [],
   "source": []
  },
  {
   "cell_type": "code",
   "execution_count": null,
   "metadata": {
    "collapsed": true
   },
   "outputs": [],
   "source": []
  },
  {
   "cell_type": "code",
   "execution_count": null,
   "metadata": {
    "collapsed": true
   },
   "outputs": [],
   "source": []
  },
  {
   "cell_type": "markdown",
   "metadata": {},
   "source": [
    "## If-else statements\n",
    "If-else statements check to see if something is True. If it's true then some code is run, if not then something else can happen"
   ]
  },
  {
   "cell_type": "code",
   "execution_count": 7,
   "metadata": {},
   "outputs": [
    {
     "name": "stdout",
     "output_type": "stream",
     "text": [
      "Let's drink hot chocolate\n"
     ]
    }
   ],
   "source": [
    "snow = True\n",
    "if snow:\n",
    "    print(\"Let's drink hot chocolate\")\n",
    "else:\n",
    "    print(\"Let's eat ice cream\")"
   ]
  },
  {
   "cell_type": "markdown",
   "metadata": {},
   "source": [
    "More examples"
   ]
  },
  {
   "cell_type": "code",
   "execution_count": null,
   "metadata": {
    "collapsed": true
   },
   "outputs": [],
   "source": [
    "temperature = 65\n",
    "if temperature > 75:\n",
    "    print(\"It's hot outside\")\n",
    "elif temperature > 55:\n",
    "    print(\"It's nice outside\")\n",
    "else:\n",
    "    print(\"Why is it so cold?\")"
   ]
  },
  {
   "cell_type": "markdown",
   "metadata": {},
   "source": [
    "## Practice\n",
    "1. Write a program that says whether a light is on or off based on whether switch is set to True/False.\n",
    "2. Write a program that asks you how much money you have in your pocket. Write three different messages depending on whether it's >\\$20, \\$1-20, or 0."
   ]
  },
  {
   "cell_type": "markdown",
   "metadata": {
    "collapsed": true
   },
   "source": [
    "## Loops\n",
    "A while loop is a block of code that runs over and over and over until its condition is false. A loop that never ends is called an __infinite loop__."
   ]
  },
  {
   "cell_type": "code",
   "execution_count": null,
   "metadata": {},
   "outputs": [],
   "source": [
    "while True:\n",
    "    print('lo')"
   ]
  },
  {
   "cell_type": "code",
   "execution_count": 2,
   "metadata": {
    "collapsed": true
   },
   "outputs": [],
   "source": [
    "while False:\n",
    "    print('I never run T_T')"
   ]
  },
  {
   "cell_type": "markdown",
   "metadata": {},
   "source": [
    "Step through the loop one line at a time."
   ]
  },
  {
   "cell_type": "code",
   "execution_count": 4,
   "metadata": {},
   "outputs": [
    {
     "name": "stdout",
     "output_type": "stream",
     "text": [
      "I like the number 0\n",
      "I like the number 1\n",
      "I like the number 2\n"
     ]
    }
   ],
   "source": [
    "i = 0\n",
    "while i < 3:\n",
    "    print('I like the number {0}'.format(i))\n",
    "    i = i + 1"
   ]
  },
  {
   "cell_type": "markdown",
   "metadata": {},
   "source": [
    "## Practice\n",
    "1. Print out all of the numbers from 1 to 100."
   ]
  },
  {
   "cell_type": "code",
   "execution_count": null,
   "metadata": {
    "collapsed": true
   },
   "outputs": [],
   "source": []
  },
  {
   "cell_type": "markdown",
   "metadata": {},
   "source": [
    "## High-Low\n",
    "Now that we know how to import, input, and loop, we have all of the tools we need to make High-low.\n",
    "The rules of our game from above are:\n",
    "* Guess a number between 1 and 50\n",
    "* If you guess the wrong the computer will tell you if it's too high or too low\n",
    "* If you guess right the game ends and you win\n",
    "* If you can't guess right in 6 tries you lose\n",
    "\n",
    "Think about how we would write a program to do all of these things one at a time.\n",
    "1. \n",
    "2.  \n",
    "3. \n"
   ]
  },
  {
   "cell_type": "code",
   "execution_count": null,
   "metadata": {
    "collapsed": true
   },
   "outputs": [],
   "source": []
  }
 ],
 "metadata": {
  "kernelspec": {
   "display_name": "Python 3",
   "language": "python",
   "name": "python3"
  },
  "language_info": {
   "codemirror_mode": {
    "name": "ipython",
    "version": 3
   },
   "file_extension": ".py",
   "mimetype": "text/x-python",
   "name": "python",
   "nbconvert_exporter": "python",
   "pygments_lexer": "ipython3",
   "version": "3.6.1"
  }
 },
 "nbformat": 4,
 "nbformat_minor": 2
}
