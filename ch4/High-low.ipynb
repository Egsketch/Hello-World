{
 "cells": [
  {
   "cell_type": "markdown",
   "metadata": {},
   "source": [
    "# High-Low\n",
    "High-low is a guessing game. \n",
    "\n",
    "## Rules\n",
    "* Guess a number between 1 and 50\n",
    "* If you guess the wrong the computer will tell you if it's too high or too low\n",
    "* If you guess right the game ends and you win\n",
    "* If you can't guess right in 6 tries you lose"
   ]
  },
  {
   "cell_type": "markdown",
   "metadata": {},
   "source": [
    "## Importing\n",
    "\n",
    "<img src=\"assets/antigrav.png\" width=\"300\">\n",
    "\n",
    "A lot of the time, someone else has already invented a smart, fast way to do something that we want to do. They'll put their function in a module (a.k.a. library in other languages). To get those functions we need to write\n",
    "\n",
    "`import name_of_module`\n",
    "\n",
    "We want to generate random numbers so we'll need the random module"
   ]
  },
  {
   "cell_type": "code",
   "execution_count": null,
   "metadata": {
    "collapsed": true
   },
   "outputs": [],
   "source": [
    "import random\n",
    "print('Your first random number is {0}'.format(random.randint(1,10)))\n",
    "print('Generate a number between 0-1: {0}'.format(random.random()))\n",
    "print('My favorite person is {0}'.format(random.choice(['Alice', 'Bob', 'Calvin'])))"
   ]
  },
  {
   "cell_type": "code",
   "execution_count": 34,
   "metadata": {},
   "outputs": [
    {
     "name": "stdout",
     "output_type": "stream",
     "text": [
      "3.141592653589793\n",
      "0.7071067811865475\n"
     ]
    }
   ],
   "source": [
    "import math\n",
    "print(math.pi)\n",
    "print(math.sin(math.pi/4))"
   ]
  },
  {
   "cell_type": "markdown",
   "metadata": {},
   "source": [
    "### Practice\n",
    "1. Generate a random number between 1 and 100.\n",
    "2. You're playing Monopoly and have lost your dice. Make a program to roll the dice.\n",
    "3. You don't know what to eat for dinner today. Make a program to choose between your three favorite foods."
   ]
  },
  {
   "cell_type": "code",
   "execution_count": null,
   "metadata": {
    "collapsed": true
   },
   "outputs": [],
   "source": []
  },
  {
   "cell_type": "code",
   "execution_count": null,
   "metadata": {
    "collapsed": true
   },
   "outputs": [],
   "source": []
  },
  {
   "cell_type": "code",
   "execution_count": null,
   "metadata": {
    "collapsed": true
   },
   "outputs": [],
   "source": []
  },
  {
   "cell_type": "markdown",
   "metadata": {},
   "source": [
    "## Input revisited\n",
    "Every variable has a type. Some variables are numbers. Examples are `int` for integer if the number doesn't have a decimal or `float` for numbers that have a decimal. Some variables are text. These are called string or `str` for short. The final type we'll talk about in this lesson is `bool` which is True or False. Other basic variable types we'll eventually see are `list`, `tuple`, `dict`, and `range`."
   ]
  },
  {
   "cell_type": "markdown",
   "metadata": {},
   "source": [
    "### Type\n",
    "To check the type of a variable use `type()` function"
   ]
  },
  {
   "cell_type": "code",
   "execution_count": 23,
   "metadata": {},
   "outputs": [
    {
     "name": "stdout",
     "output_type": "stream",
     "text": [
      "<class 'str'>\n",
      "<class 'int'>\n",
      "<class 'float'>\n",
      "<class 'bool'>\n",
      "<class 'str'>\n",
      "<class 'float'>\n",
      "<class 'int'>\n"
     ]
    }
   ],
   "source": [
    "print(type('hello'))\n",
    "print(type(2))\n",
    "print(type(2.0))\n",
    "print(type(True))\n",
    "print(type('2'))\n",
    "print(type(3.14159))\n",
    "\n",
    "num_dolphins = 2\n",
    "print(type(num_dolphins))"
   ]
  },
  {
   "cell_type": "markdown",
   "metadata": {},
   "source": [
    "### Bool\n",
    "Bool is named after [George Boole](https://en.wikipedia.org/wiki/George_Boole), an English mathmetician.\n",
    "A bool can be one of two things __True__ or __False__. Bools are useful for if statements we'll learn about in just a bit.\n",
    "Operators are:\n"
   ]
  },
  {
   "cell_type": "code",
   "execution_count": 27,
   "metadata": {},
   "outputs": [
    {
     "name": "stdout",
     "output_type": "stream",
     "text": [
      "\n",
      "> Greater than\n",
      "True\n",
      "False\n",
      "False\n",
      "\n",
      ">= Greater than or equal to\n",
      "True\n",
      "False\n",
      "True\n",
      "\n",
      "< Less than\n",
      "False\n",
      "True\n",
      "False\n",
      "\n",
      "<= Less than or equal to\n",
      "== Is equal to\n",
      "False\n",
      "False\n",
      "True\n",
      "False\n",
      "\n",
      "!= Is not equal to\n",
      "True\n",
      "True\n",
      "False\n",
      "True\n"
     ]
    }
   ],
   "source": [
    "print('\\n> Greater than')\n",
    "print(5 > 4)\n",
    "print(5 > 6)\n",
    "print(5 > 5)\n",
    "\n",
    "print('\\n>= Greater than or equal to')\n",
    "print(5 >= 4)\n",
    "print(5 >= 6)\n",
    "print(5 >= 5)\n",
    "\n",
    "print('\\n< Less than')\n",
    "print(5 < 4)\n",
    "print(5 < 6)\n",
    "print(5 < 5)\n",
    "\n",
    "print('\\n<= Less than or equal to')\n",
    "print('== Is equal to')\n",
    "print(5 == 4)\n",
    "print(5 == 6)\n",
    "print(5 == 5)\n",
    "print (5 == '5')\n",
    "\n",
    "print('\\n!= Is not equal to')\n",
    "print(5 != 4)\n",
    "print(5 != 6)\n",
    "print(5 != 5)\n",
    "print(5 != '5')"
   ]
  },
  {
   "cell_type": "markdown",
   "metadata": {},
   "source": [
    "### Integer\n",
    "An integer is a positive or negative whole number. e.g. 1 42 123 -15532\n",
    "The `int()` command tries to force a variable to be an integer. When converting a decimal it truncates (throws away the numbers after the decimal)."
   ]
  },
  {
   "cell_type": "code",
   "execution_count": 42,
   "metadata": {},
   "outputs": [
    {
     "name": "stdout",
     "output_type": "stream",
     "text": [
      "2\n",
      "-12\n",
      "1\n",
      "1\n",
      "0\n",
      "-1\n"
     ]
    }
   ],
   "source": [
    "print(int(2))\n",
    "print(int(-12))\n",
    "print(int(1.6))\n",
    "print(int(1.4))\n",
    "print(int(-0.6))\n",
    "print(int(-1.2))"
   ]
  },
  {
   "cell_type": "markdown",
   "metadata": {},
   "source": [
    "If you try to force a variable to be an integer and it can't then it throws an error."
   ]
  },
  {
   "cell_type": "code",
   "execution_count": 44,
   "metadata": {},
   "outputs": [
    {
     "ename": "ValueError",
     "evalue": "invalid literal for int() with base 10: 'cake'",
     "output_type": "error",
     "traceback": [
      "\u001b[0;31m---------------------------------------------------------------------------\u001b[0m",
      "\u001b[0;31mValueError\u001b[0m                                Traceback (most recent call last)",
      "\u001b[0;32m<ipython-input-44-3c594aad2cbf>\u001b[0m in \u001b[0;36m<module>\u001b[0;34m()\u001b[0m\n\u001b[0;32m----> 1\u001b[0;31m \u001b[0mprint\u001b[0m\u001b[0;34m(\u001b[0m\u001b[0mint\u001b[0m\u001b[0;34m(\u001b[0m\u001b[0;34m'cake'\u001b[0m\u001b[0;34m)\u001b[0m\u001b[0;34m)\u001b[0m\u001b[0;34m\u001b[0m\u001b[0m\n\u001b[0m",
      "\u001b[0;31mValueError\u001b[0m: invalid literal for int() with base 10: 'cake'"
     ]
    }
   ],
   "source": [
    "print(int('cake'))"
   ]
  },
  {
   "cell_type": "markdown",
   "metadata": {},
   "source": [
    "This is useful for making sure input is the type you expect it to be."
   ]
  },
  {
   "cell_type": "code",
   "execution_count": null,
   "metadata": {},
   "outputs": [],
   "source": [
    "age = int(input('How old are you? '))\n",
    "print('Were you born in {0} or {1}?'.format(2017 - age, 2016 - age))"
   ]
  },
  {
   "cell_type": "markdown",
   "metadata": {},
   "source": [
    "## If-else statements\n",
    "If-else statements check to see if something is True. If it's true then some code is run, if not then something else can happen"
   ]
  },
  {
   "cell_type": "code",
   "execution_count": null,
   "metadata": {
    "collapsed": true
   },
   "outputs": [],
   "source": [
    "snow = True\n",
    "if snow:\n",
    "    print(\"Let's drink hot chocolate\")\n",
    "else:\n",
    "    print(\"Let's eat ice cream\")"
   ]
  },
  {
   "cell_type": "markdown",
   "metadata": {},
   "source": [
    "More examples"
   ]
  },
  {
   "cell_type": "code",
   "execution_count": null,
   "metadata": {
    "collapsed": true
   },
   "outputs": [],
   "source": [
    "temperature = 65\n",
    "if temperature > 75:\n",
    "    print(\"It's hot outside\")\n",
    "elif temperature > 55:\n",
    "    print(\"It's nice outside\")\n",
    "else:\n",
    "    print(\"Why is it so cold?\")"
   ]
  },
  {
   "cell_type": "markdown",
   "metadata": {},
   "source": [
    "## Practice\n",
    "1. Write a program that says whether a light is on or off based on whether switch is set to True/False.\n",
    "2. Write a program that asks you how much money you have in your pocket. Write three different messages depending on whether it's >\\$20, \\$1-20, or 0."
   ]
  },
  {
   "cell_type": "markdown",
   "metadata": {
    "collapsed": true
   },
   "source": [
    "## Loops\n",
    "A while loop is a block of code that runs over and over and over until its condition is false. A loop that never ends is called an __infinite loop__. To break out of an infinite loop press the stop button at the top."
   ]
  },
  {
   "cell_type": "code",
   "execution_count": null,
   "metadata": {},
   "outputs": [],
   "source": [
    "while True:\n",
    "    print('lo')"
   ]
  },
  {
   "cell_type": "code",
   "execution_count": null,
   "metadata": {
    "collapsed": true
   },
   "outputs": [],
   "source": [
    "while False:\n",
    "    print('I never run T_T')"
   ]
  },
  {
   "cell_type": "markdown",
   "metadata": {},
   "source": [
    "Step through the loop one line at a time."
   ]
  },
  {
   "cell_type": "code",
   "execution_count": null,
   "metadata": {
    "collapsed": true
   },
   "outputs": [],
   "source": [
    "i = 0\n",
    "while i < 3:\n",
    "    print('I like the number {0}'.format(i))\n",
    "    i = i + 1"
   ]
  },
  {
   "cell_type": "markdown",
   "metadata": {},
   "source": [
    "## Practice\n",
    "1. Print out all of the numbers from 1 to 100.\n",
    "2. Print out all of the numbers from 1 to a number you input. (what happens if you input a word or a negative number)."
   ]
  },
  {
   "cell_type": "code",
   "execution_count": null,
   "metadata": {
    "collapsed": true
   },
   "outputs": [],
   "source": []
  },
  {
   "cell_type": "code",
   "execution_count": 8,
   "metadata": {
    "scrolled": true
   },
   "outputs": [
    {
     "name": "stdout",
     "output_type": "stream",
     "text": [
      "What number should I count to ? 12\n",
      "1\n",
      "2\n",
      "3\n",
      "4\n",
      "5\n",
      "6\n",
      "7\n",
      "8\n",
      "9\n",
      "10\n",
      "11\n",
      "12\n"
     ]
    }
   ],
   "source": [
    "num = int(input('What number should I count to ? '))\n",
    "i = 0\n",
    "while i < num:\n",
    "    i += 1\n",
    "    print(i)"
   ]
  },
  {
   "cell_type": "markdown",
   "metadata": {},
   "source": [
    "## High-Low\n",
    "Now that we know how to import, input, and loop, we have all of the tools we need to make High-low.\n",
    "The rules of our game from above are:\n",
    "* Guess a number between 1 and 50\n",
    "* If you guess the wrong the computer will tell you if it's too high or too low\n",
    "* If you guess right the game ends and you win\n",
    "* If you can't guess right in 6 tries you lose\n",
    "\n",
    "Think about how we would write a program to do all of these things one at a time.\n",
    "1. \n",
    "2.  \n",
    "3. \n"
   ]
  },
  {
   "cell_type": "code",
   "execution_count": null,
   "metadata": {
    "collapsed": true
   },
   "outputs": [],
   "source": []
  }
 ],
 "metadata": {
  "kernelspec": {
   "display_name": "Python 3",
   "language": "python",
   "name": "python3"
  },
  "language_info": {
   "codemirror_mode": {
    "name": "ipython",
    "version": 3
   },
   "file_extension": ".py",
   "mimetype": "text/x-python",
   "name": "python",
   "nbconvert_exporter": "python",
   "pygments_lexer": "ipython3",
   "version": "3.6.1"
  }
 },
 "nbformat": 4,
 "nbformat_minor": 2
}
