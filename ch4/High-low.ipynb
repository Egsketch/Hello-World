{
 "cells": [
  {
   "cell_type": "markdown",
   "metadata": {},
   "source": [
    "# High-Low\n",
    "High-low is a guessing game. \n",
    "\n",
    "## Rules\n",
    "* Guess a number between 1 and 50\n",
    "* If you guess the wrong the computer will tell you if it's too high or too low\n",
    "* If you guess right the game ends and you win\n",
    "* If you can't guess right in 6 tries you lose"
   ]
  },
  {
   "cell_type": "markdown",
   "metadata": {},
   "source": [
    "## Importing\n",
    "\n",
    "<img src=\"assets/antigrav.png\" width=\"300\">\n",
    "\n",
    "A lot of the time, someone else has already invented a smart, fast way to do something that we want to do. They'll put their function in a module (a.k.a. library in other languages). To get those functions we need to write\n",
    "\n",
    "`import name_of_module`\n",
    "\n",
    "We want to generate random numbers so we'll need the random module"
   ]
  },
  {
   "cell_type": "code",
   "execution_count": 30,
   "metadata": {},
   "outputs": [
    {
     "name": "stdout",
     "output_type": "stream",
     "text": [
      "Your first random number is 7\n",
      "Generate a number between 0-1: 0.14181657873003184\n",
      "My favorite person is Calvin\n"
     ]
    }
   ],
   "source": [
    "import random\n",
    "print('Your first random number is {0}'.format(random.randint(1,10)))\n",
    "print('Generate a number between 0-1: {0}'.format(random.random()))\n",
    "print('My favorite person is {0}'.format(random.choice(['Alice', 'Bob', 'Calvin'])))"
   ]
  },
  {
   "cell_type": "markdown",
   "metadata": {},
   "source": [
    "### Practice\n",
    "1. Generate a random number between 1 and 100.\n",
    "2. You're playing Monopoly and have lost your dice. Make a program to roll the dice.\n",
    "3. You don't know what to eat for dinner today. Make a program to choose between your three favorite foods."
   ]
  },
  {
   "cell_type": "code",
   "execution_count": null,
   "metadata": {
    "collapsed": true
   },
   "outputs": [],
   "source": []
  },
  {
   "cell_type": "code",
   "execution_count": null,
   "metadata": {
    "collapsed": true
   },
   "outputs": [],
   "source": []
  },
  {
   "cell_type": "code",
   "execution_count": null,
   "metadata": {
    "collapsed": true
   },
   "outputs": [],
   "source": []
  },
  {
   "cell_type": "markdown",
   "metadata": {},
   "source": [
    "## Input\n",
    "Games aren't any fun unless the player can interact with the computer. The simplest way to tell the computer something useful is with the `input()` command."
   ]
  },
  {
   "cell_type": "code",
   "execution_count": 3,
   "metadata": {},
   "outputs": [
    {
     "name": "stdout",
     "output_type": "stream",
     "text": [
      "pie\n",
      "pie\n"
     ]
    }
   ],
   "source": [
    "age = input()\n",
    "print(age)"
   ]
  },
  {
   "cell_type": "markdown",
   "metadata": {},
   "source": [
    "Is there anything wrong with this input? What would happen if you put in a silly response?\n",
    "\n",
    "### Practice\n",
    "1. Write a program that asks you for your name and prints it out.\n",
    "2. "
   ]
  },
  {
   "cell_type": "code",
   "execution_count": null,
   "metadata": {
    "collapsed": true
   },
   "outputs": [],
   "source": []
  }
 ],
 "metadata": {
  "kernelspec": {
   "display_name": "Python 3",
   "language": "python",
   "name": "python3"
  },
  "language_info": {
   "codemirror_mode": {
    "name": "ipython",
    "version": 3
   },
   "file_extension": ".py",
   "mimetype": "text/x-python",
   "name": "python",
   "nbconvert_exporter": "python",
   "pygments_lexer": "ipython3",
   "version": "3.6.1"
  }
 },
 "nbformat": 4,
 "nbformat_minor": 2
}
