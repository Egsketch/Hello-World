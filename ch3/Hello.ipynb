{
 "cells": [
  {
   "cell_type": "markdown",
   "metadata": {},
   "source": [
    "# Chapter 3 - Strings\n",
    "Strings are a variable type that encodes text. Strings can be any combination of letters numbers or symbols between quotes.\n",
    "To execute the code inside of a cell, highlight the cell by clicking on it or using the up/down arrows, then press Ctrl+Enter"
   ]
  },
  {
   "cell_type": "code",
   "execution_count": 17,
   "metadata": {},
   "outputs": [
    {
     "name": "stdout",
     "output_type": "stream",
     "text": [
      "Hello\n",
      "Bob\n",
      "我是美国人\n",
      "1lkrj32rkl1knp1u442314\n",
      "3\n"
     ]
    }
   ],
   "source": [
    "print('Hello')\n",
    "print('Bob')\n",
    "print('我是美国人')\n",
    "print('1lkrj32rkl1knp1u442314')\n",
    "print('3')"
   ]
  },
  {
   "cell_type": "markdown",
   "metadata": {},
   "source": [
    "Strings can be changed in a lot of ways. You can add strings together (_string concatenation_) or multiply them by an integer."
   ]
  },
  {
   "cell_type": "code",
   "execution_count": 18,
   "metadata": {},
   "outputs": [
    {
     "name": "stdout",
     "output_type": "stream",
     "text": [
      "Hi Bob!\n",
      "Nuh-uh Nuh-uh Nuh-uh Nuh-uh Nuh-uh Nuh-uh Nuh-uh Nuh-uh Nuh-uh Nuh-uh \n",
      "applebananaapple\n",
      "appleappleappleapple\n"
     ]
    }
   ],
   "source": [
    "print('Hi' + ' ' + 'Bob!')\n",
    "print('Nuh-uh '*10)\n",
    "a = 'apple'\n",
    "b = \"banana\"\n",
    "print(a + b + a)\n",
    "print(4*a)"
   ]
  },
  {
   "cell_type": "markdown",
   "metadata": {},
   "source": [
    "## Practice 1:\n",
    "1. Print Hello World!\n",
    "2. Write out duck duck goose with 6 ducks and then one goose"
   ]
  },
  {
   "cell_type": "code",
   "execution_count": null,
   "metadata": {
    "collapsed": true
   },
   "outputs": [],
   "source": []
  },
  {
   "cell_type": "code",
   "execution_count": null,
   "metadata": {
    "collapsed": true
   },
   "outputs": [],
   "source": []
  },
  {
   "cell_type": "markdown",
   "metadata": {},
   "source": [
    "## Input\n",
    "Games aren't any fun unless the player can interact with the computer. The simplest way to tell the computer something useful is with the `input()` command."
   ]
  },
  {
   "cell_type": "code",
   "execution_count": 13,
   "metadata": {},
   "outputs": [
    {
     "name": "stdout",
     "output_type": "stream",
     "text": [
      "What is your favorite color? red\n",
      "My favorite color is red\n"
     ]
    }
   ],
   "source": [
    "color = input('What is your favorite color? ')\n",
    "print('My favorite color is ' + color)"
   ]
  },
  {
   "cell_type": "markdown",
   "metadata": {},
   "source": [
    "age = input('How old are you? ')\n",
    "print(\"I'm {0} years old\".format(age))"
   ]
  },
  {
   "cell_type": "markdown",
   "metadata": {},
   "source": [
    "Is there anything wrong with this input? What would happen if you put in a silly response?\n",
    "\n",
    "### Practice\n",
    "1. Write a program that asks you for your name and greets you with your name.\n",
    "2. Write a program that asks for your first name and last name then writes out Last name, First name (e.g. Sketch, Christopher)"
   ]
  },
  {
   "cell_type": "code",
   "execution_count": null,
   "metadata": {
    "collapsed": true
   },
   "outputs": [],
   "source": []
  },
  {
   "cell_type": "code",
   "execution_count": null,
   "metadata": {
    "collapsed": true
   },
   "outputs": [],
   "source": []
  },
  {
   "cell_type": "markdown",
   "metadata": {},
   "source": [
    "## Putting your code in a file\n",
    "We'll use Spyder to put code in a permanent file. There are a lot of text editors.\n",
    "To start Spyder open a terminal\n",
    "```sh\n",
    "source activate invent\n",
    "spyder\n",
    "```\n",
    "Create a new project by clicking File -> New Project. \n",
    "Copy the code that greeted you into the editor window, save it as `hello.py`"
   ]
  },
  {
   "cell_type": "code",
   "execution_count": 20,
   "metadata": {},
   "outputs": [
    {
     "name": "stderr",
     "output_type": "stream",
     "text": [
      "ERROR:root:File `'hello.py'` not found.\n"
     ]
    }
   ],
   "source": [
    "%run hello.py"
   ]
  }
 ],
 "metadata": {
  "kernelspec": {
   "display_name": "Python 3",
   "language": "python",
   "name": "python3"
  },
  "language_info": {
   "codemirror_mode": {
    "name": "ipython",
    "version": 3
   },
   "file_extension": ".py",
   "mimetype": "text/x-python",
   "name": "python",
   "nbconvert_exporter": "python",
   "pygments_lexer": "ipython3",
   "version": "3.6.1"
  }
 },
 "nbformat": 4,
 "nbformat_minor": 2
}
