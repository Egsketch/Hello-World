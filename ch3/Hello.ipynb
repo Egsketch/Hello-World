{
 "cells": [
  {
   "cell_type": "markdown",
   "metadata": {},
   "source": [
    "# Chapter 3 - Strings\n",
    "Strings are a variable type that encodes text. Strings can be any combination of letters numbers or symbols between quotes.\n",
    "To execute the code inside of a cell, highlight the cell by clicking on it or using the up/down arrows, then press Ctrl+Enter"
   ]
  },
  {
   "cell_type": "code",
   "execution_count": 53,
   "metadata": {},
   "outputs": [
    {
     "name": "stdout",
     "output_type": "stream",
     "text": [
      "Hello\n",
      "Bob\n",
      "我是美国人\n",
      "1lkrj32rkl1knp1u442314\n",
      "3\n",
      "'^'\n",
      "1-1\n",
      ":)\n"
     ]
    }
   ],
   "source": [
    "print('Hello')\n",
    "print('Bob')\n",
    "print('我是美国人')\n",
    "print('1lkrj32rkl1knp1u442314')\n",
    "print('3')\n",
    "\n",
    "print(\"'^'\")\n",
    "print(\"1-1\")\n",
    "print(\":)\")"
   ]
  },
  {
   "cell_type": "markdown",
   "metadata": {},
   "source": [
    "Strings can be changed in a lot of ways. You can add strings together (_string concatenation_) or multiply them by an integer."
   ]
  },
  {
   "cell_type": "code",
   "execution_count": null,
   "metadata": {
    "collapsed": true
   },
   "outputs": [],
   "source": [
    "print('Hi' + ' ' + 'Bob!')\n",
    "print('Nuh-uh '*10)\n",
    "a = 'apple'\n",
    "b = \"banana\"\n",
    "print(a + b + a)\n",
    "print(4*a)"
   ]
  },
  {
   "cell_type": "markdown",
   "metadata": {},
   "source": [
    "### Practice 1:\n",
    "1. Print Hello World!\n",
    "2. Write out duck duck goose with 6 ducks and then one goose"
   ]
  },
  {
   "cell_type": "code",
   "execution_count": 6,
   "metadata": {},
   "outputs": [
    {
     "name": "stdout",
     "output_type": "stream",
     "text": [
      "Hello World!\n"
     ]
    }
   ],
   "source": [
    "print ('Hello World!')"
   ]
  },
  {
   "cell_type": "code",
   "execution_count": 5,
   "metadata": {},
   "outputs": [
    {
     "name": "stdout",
     "output_type": "stream",
     "text": [
      "duckduckduckduckduckduckgoose\n"
     ]
    }
   ],
   "source": [
    "d = 'duck'\n",
    "g = 'goose'\n",
    "print(6*d + g)"
   ]
  },
  {
   "cell_type": "markdown",
   "metadata": {},
   "source": [
    "## String formatting\n",
    "It can be messy to keep adding string together to make a sentence. Python supports a nice way of writing out strings with the .format() ending. We'll see how to use that below"
   ]
  },
  {
   "cell_type": "code",
   "execution_count": 13,
   "metadata": {},
   "outputs": [
    {
     "name": "stdout",
     "output_type": "stream",
     "text": [
      "My favorite sport is football. I don't like baseball\n"
     ]
    }
   ],
   "source": [
    "sport = 'football'\n",
    "dislike = 'baseball'\n",
    "print(\"My favorite sport is {0}. I don't like {1}\".format(sport, dislike))"
   ]
  },
  {
   "cell_type": "code",
   "execution_count": null,
   "metadata": {
    "collapsed": true
   },
   "outputs": [],
   "source": [
    "num_apples = 4\n",
    "num_bananas = 3\n",
    "name = 'Bob'\n",
    "print('I have {0} apples, {1} bananas'.format(num_apples, num_bananas))\n",
    "print('Hi {0}. {0} is a silly name. {0}{0}{0}'.format(name))"
   ]
  },
  {
   "cell_type": "markdown",
   "metadata": {},
   "source": [
    "## Input\n",
    "Games aren't any fun unless the player can interact with the computer. The simplest way to tell the computer something useful is with the `input()` command."
   ]
  },
  {
   "cell_type": "code",
   "execution_count": 20,
   "metadata": {},
   "outputs": [
    {
     "ename": "SyntaxError",
     "evalue": "invalid syntax (<ipython-input-20-c1bef1bd51bf>, line 1)",
     "output_type": "error",
     "traceback": [
      "\u001b[0;36m  File \u001b[0;32m\"<ipython-input-20-c1bef1bd51bf>\"\u001b[0;36m, line \u001b[0;32m1\u001b[0m\n\u001b[0;31m    color = input('What is your favorite color? 'blue' )\u001b[0m\n\u001b[0m                                                    ^\u001b[0m\n\u001b[0;31mSyntaxError\u001b[0m\u001b[0;31m:\u001b[0m invalid syntax\n"
     ]
    }
   ],
   "source": [
    "color = input('What is your favorite color? 'blue' )\n",
    "print('My favorite color is \"blue\" + color)\n",
    "      \n",
    "      input= cookies (What is your favorite cookie '')\n",
    "print('My favorite cookie is \"chocolate\"')"
   ]
  },
  {
   "cell_type": "code",
   "execution_count": 26,
   "metadata": {},
   "outputs": [
    {
     "name": "stdout",
     "output_type": "stream",
     "text": [
      "How old are you? 13\n",
      "I'm 13 years old\n"
     ]
    }
   ],
   "source": [
    "age = input('How old are you? ')\n",
    "print(\"I'm {0} years old\".format(age))"
   ]
  },
  {
   "cell_type": "markdown",
   "metadata": {},
   "source": [
    "Is there anything wrong with this input? What would happen if you put in a silly response?\n",
    "\n",
    "### Practice 2\n",
    "1. Write a program that asks you for your name and greets you with your name.\n",
    "2. Write a program that asks for your first name and last name then writes out Last name, First name (e.g. Sketch, Christopher)"
   ]
  },
  {
   "cell_type": "code",
   "execution_count": 27,
   "metadata": {},
   "outputs": [
    {
     "name": "stdout",
     "output_type": "stream",
     "text": [
      "What is your name?Emma\n",
      "My name is Emma.\n",
      "Nice to meet you!nice to meet you\n"
     ]
    }
   ],
   "source": [
    "name = input ('What is your name?')\n",
    "print('My name is {0}.' .format(name))\n",
    "name = input ('Nice to meet you!')"
   ]
  },
  {
   "cell_type": "code",
   "execution_count": null,
   "metadata": {
    "collapsed": true
   },
   "outputs": [],
   "source": []
  },
  {
   "cell_type": "code",
   "execution_count": null,
   "metadata": {
    "collapsed": true
   },
   "outputs": [],
   "source": [
    "name = input ('What is your name?')\n",
    "print ('hi hi hi!!!!!!!!!')"
   ]
  },
  {
   "cell_type": "markdown",
   "metadata": {},
   "source": [
    "## Errors\n",
    "What happens when we make a typo and try to write something that doesn't exist?"
   ]
  },
  {
   "cell_type": "code",
   "execution_count": 28,
   "metadata": {},
   "outputs": [
    {
     "name": "stdout",
     "output_type": "stream",
     "text": [
      "I have 4 fruits\n"
     ]
    }
   ],
   "source": [
    "num_fruit = 4\n",
    "print('I have {0} fruits'.format(num_fruit))"
   ]
  },
  {
   "cell_type": "markdown",
   "metadata": {},
   "source": [
    "## Hello program\n",
    "We want to make a program that will do the following:\n",
    "1. Say \"Hello, World!\"\n",
    "2. Ask \"What is your name?\"\n",
    "3. Respond \"It is good to meet you YOURNAMEHERE.\"\n",
    "\n",
    "After you're done we'll move this program to its own file so we can execute it by itself."
   ]
  },
  {
   "cell_type": "code",
   "execution_count": 44,
   "metadata": {},
   "outputs": [
    {
     "name": "stdout",
     "output_type": "stream",
     "text": [
      "Hello World!\n",
      "What is your name?Emma\n",
      "It is nice to meet Emma\n"
     ]
    }
   ],
   "source": [
    "print(\"Hello World!\")\n",
    "name = input (\"What is your name?\")\n",
    "print(\"It is nice to meet {0}\" .format(name))"
   ]
  },
  {
   "cell_type": "code",
   "execution_count": 49,
   "metadata": {},
   "outputs": [
    {
     "name": "stdout",
     "output_type": "stream",
     "text": [
      "Are you tired in the morning?\n",
      "Do you day daydream?Yeahhhhhhhhhhhh! Yeat! Yes (:\n",
      "Many people are tired too.\n"
     ]
    }
   ],
   "source": [
    "print(\"Are you tired in the morning?\")\n",
    "answer = input (\"Do you day daydream?\")\n",
    "print(\"Many people are tired too.\")"
   ]
  },
  {
   "cell_type": "code",
   "execution_count": null,
   "metadata": {
    "collapsed": true
   },
   "outputs": [],
   "source": []
  }
 ],
 "metadata": {
  "kernelspec": {
   "display_name": "Python 3",
   "language": "python",
   "name": "python3"
  },
  "language_info": {
   "codemirror_mode": {
    "name": "ipython",
    "version": 3
   },
   "file_extension": ".py",
   "mimetype": "text/x-python",
   "name": "python",
   "nbconvert_exporter": "python",
   "pygments_lexer": "ipython3",
   "version": "3.6.1"
  }
 },
 "nbformat": 4,
 "nbformat_minor": 2
}
